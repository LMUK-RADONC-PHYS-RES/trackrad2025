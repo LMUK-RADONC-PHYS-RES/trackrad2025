{
 "cells": [
  {
   "cell_type": "code",
   "execution_count": 15,
   "metadata": {},
   "outputs": [],
   "source": [
    "import numpy as np"
   ]
  },
  {
   "cell_type": "code",
   "execution_count": null,
   "metadata": {},
   "outputs": [],
   "source": [
    "# Install SimpleITK package for comparison if not already installed\n",
    "#!pip install SimpleITK"
   ]
  },
  {
   "cell_type": "code",
   "execution_count": 17,
   "metadata": {},
   "outputs": [],
   "source": [
    "# import SimpleITK\n",
    "import SimpleITK as sitk\n",
    "import minimal_mha_simpleitk as m_sitk"
   ]
  },
  {
   "cell_type": "code",
   "execution_count": 18,
   "metadata": {},
   "outputs": [],
   "source": [
    "# set files to compare loading of\n",
    "FRAMES_EXAMPLE = '../dataset/example/Z_001/images/Z_001_frames.mha'\n",
    "LABELS_EXAMPLE = '../dataset/example/Z_001/targets/Z_001_labels.mha'"
   ]
  },
  {
   "cell_type": "code",
   "execution_count": 19,
   "metadata": {},
   "outputs": [
    {
     "name": "stdout",
     "output_type": "stream",
     "text": [
      "SimpleITK Image Shape: (125, 125, 10)\n",
      "Minimal SimpleITK Image Shape: (125, 125, 10)\n",
      "SimpleITK Label Shape: (125, 125, 10)\n",
      "Minimal SimpleITK Label Shape: (125, 125, 10)\n",
      "SimpleITK Compressed Image Shape: (125, 125, 10)\n",
      "Minimal SimpleITK Compressed Image Shape: (125, 125, 10)\n"
     ]
    }
   ],
   "source": [
    "# compare the custom and simpleitk mha loading implementations\n",
    "\n",
    "sitk_image = sitk.ReadImage(FRAMES_EXAMPLE)\n",
    "sitk_image_data = sitk.GetArrayFromImage(sitk_image)\n",
    "m_sitk_image = m_sitk.ReadImage(FRAMES_EXAMPLE)\n",
    "m_sitk_image_data = m_sitk.GetArrayFromImage(m_sitk_image)\n",
    "\n",
    "print('SimpleITK Image Shape:', sitk_image_data.shape)\n",
    "print('Minimal SimpleITK Image Shape:', m_sitk_image_data.shape)\n",
    "\n",
    "sitk_label = sitk.ReadImage(LABELS_EXAMPLE)\n",
    "sitk_label_data = sitk.GetArrayFromImage(sitk_label)\n",
    "m_sitk_label = m_sitk.ReadImage(LABELS_EXAMPLE)\n",
    "m_sitk_label_data = m_sitk.GetArrayFromImage(m_sitk_label)\n",
    "\n",
    "print('SimpleITK Label Shape:', sitk_label_data.shape)\n",
    "print('Minimal SimpleITK Label Shape:', m_sitk_label_data.shape)\n",
    "\n",
    "# create compressed case \n",
    "COMPRESSED_FRAMES_EXAMPLE = FRAMES_EXAMPLE.replace(\".mha\",\".compressed.mha\")\n",
    "sitk.WriteImage(sitk_image, COMPRESSED_FRAMES_EXAMPLE, useCompression=True) \n",
    "\n",
    "sitk_image_compressed = sitk.ReadImage(COMPRESSED_FRAMES_EXAMPLE)\n",
    "sitk_image_compressed_data = sitk.GetArrayFromImage(sitk_image_compressed)\n",
    "m_sitk_image_compressed = m_sitk.ReadImage(COMPRESSED_FRAMES_EXAMPLE)\n",
    "m_sitk_image_compressed_data = m_sitk.GetArrayFromImage(m_sitk_image_compressed)\n",
    "\n",
    "print('SimpleITK Compressed Image Shape:', sitk_image_compressed_data.shape)\n",
    "print('Minimal SimpleITK Compressed Image Shape:', m_sitk_image_compressed_data.shape)"
   ]
  },
  {
   "cell_type": "code",
   "execution_count": 20,
   "metadata": {},
   "outputs": [],
   "source": [
    "# assert that the custom and simpleitk implementations loaded the same files\n",
    "assert np.isclose(sitk_image_data, m_sitk_image_data).all()\n",
    "assert np.isclose(sitk_label_data, m_sitk_label_data).all()\n",
    "assert np.isclose(sitk_image_compressed_data, m_sitk_image_compressed_data).all()"
   ]
  },
  {
   "cell_type": "code",
   "execution_count": 21,
   "metadata": {},
   "outputs": [],
   "source": [
    "# compare the runtime of the custom and simpleitk implementations"
   ]
  },
  {
   "cell_type": "code",
   "execution_count": 22,
   "metadata": {},
   "outputs": [
    {
     "name": "stdout",
     "output_type": "stream",
     "text": [
      "2.62 ms ± 287 μs per loop (mean ± std. dev. of 7 runs, 100 loops each)\n"
     ]
    }
   ],
   "source": [
    "%%timeit\n",
    "# simpleitk implementation\n",
    "sitk_image = sitk.ReadImage(FRAMES_EXAMPLE)\n",
    "sitk_image_data = sitk.GetArrayFromImage(sitk_image)\n"
   ]
  },
  {
   "cell_type": "code",
   "execution_count": 23,
   "metadata": {},
   "outputs": [
    {
     "name": "stdout",
     "output_type": "stream",
     "text": [
      "2.36 ms ± 126 μs per loop (mean ± std. dev. of 7 runs, 1,000 loops each)\n"
     ]
    }
   ],
   "source": [
    "%%timeit\n",
    "# simpleitk implementation\n",
    "sitk_label = sitk.ReadImage(LABELS_EXAMPLE)\n",
    "sitk_label_data = sitk.GetArrayFromImage(sitk_label)"
   ]
  },
  {
   "cell_type": "code",
   "execution_count": 24,
   "metadata": {},
   "outputs": [
    {
     "name": "stdout",
     "output_type": "stream",
     "text": [
      "2.65 ms ± 333 μs per loop (mean ± std. dev. of 7 runs, 100 loops each)\n"
     ]
    }
   ],
   "source": [
    "%%timeit\n",
    "# simpleitk implementation\n",
    "sitk_image_compressed = sitk.ReadImage(COMPRESSED_FRAMES_EXAMPLE)\n",
    "sitk_image_compressed_data = sitk.GetArrayFromImage(sitk_image_compressed)"
   ]
  },
  {
   "cell_type": "code",
   "execution_count": 25,
   "metadata": {},
   "outputs": [
    {
     "name": "stdout",
     "output_type": "stream",
     "text": [
      "268 μs ± 25.8 μs per loop (mean ± std. dev. of 7 runs, 1,000 loops each)\n"
     ]
    }
   ],
   "source": [
    "%%timeit\n",
    "# custom implementation\n",
    "m_sitk_image = m_sitk.ReadImage(FRAMES_EXAMPLE)\n",
    "m_sitk_image_data = m_sitk.GetArrayFromImage(m_sitk_image)"
   ]
  },
  {
   "cell_type": "code",
   "execution_count": 26,
   "metadata": {},
   "outputs": [
    {
     "name": "stdout",
     "output_type": "stream",
     "text": [
      "141 μs ± 11.4 μs per loop (mean ± std. dev. of 7 runs, 10,000 loops each)\n"
     ]
    }
   ],
   "source": [
    "%%timeit\n",
    "# custom implementation\n",
    "m_sitk_label = m_sitk.ReadImage(LABELS_EXAMPLE)\n",
    "m_sitk_label_data = m_sitk.GetArrayFromImage(m_sitk_label)"
   ]
  },
  {
   "cell_type": "code",
   "execution_count": 27,
   "metadata": {},
   "outputs": [
    {
     "name": "stdout",
     "output_type": "stream",
     "text": [
      "1.27 ms ± 22.5 μs per loop (mean ± std. dev. of 7 runs, 1,000 loops each)\n"
     ]
    }
   ],
   "source": [
    "%%timeit\n",
    "# custom implementation\n",
    "m_sitk_image_compressed = m_sitk.ReadImage(COMPRESSED_FRAMES_EXAMPLE)\n",
    "m_sitk_image_compressed_data = m_sitk.GetArrayFromImage(m_sitk_image_compressed)"
   ]
  },
  {
   "cell_type": "code",
   "execution_count": 28,
   "metadata": {},
   "outputs": [],
   "source": [
    "# clean up\n",
    "!rm {COMPRESSED_FRAMES_EXAMPLE}"
   ]
  }
 ],
 "metadata": {
  "kernelspec": {
   "display_name": "Python 3",
   "language": "python",
   "name": "python3"
  },
  "language_info": {
   "codemirror_mode": {
    "name": "ipython",
    "version": 3
   },
   "file_extension": ".py",
   "mimetype": "text/x-python",
   "name": "python",
   "nbconvert_exporter": "python",
   "pygments_lexer": "ipython3",
   "version": "3.11.9"
  }
 },
 "nbformat": 4,
 "nbformat_minor": 2
}
