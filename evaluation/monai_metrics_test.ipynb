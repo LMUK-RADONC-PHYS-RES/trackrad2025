{
 "cells": [
  {
   "cell_type": "code",
   "execution_count": 1,
   "metadata": {},
   "outputs": [],
   "source": [
    "import numpy as np\n",
    "import torch\n",
    "import matplotlib.pyplot as plt\n",
    "import cv2"
   ]
  },
  {
   "cell_type": "code",
   "execution_count": 2,
   "metadata": {},
   "outputs": [],
   "source": [
    "# Install monai package for comparison if not already installed\n",
    "#!pip install monai"
   ]
  },
  {
   "cell_type": "code",
   "execution_count": 3,
   "metadata": {},
   "outputs": [],
   "source": [
    "# import monai metrics\n",
    "import monai.metrics as monai_metrics\n",
    "dice_metric = monai_metrics.DiceMetric(include_background=True)\n",
    "surface_distance_95_metric = monai_metrics.HausdorffDistanceMetric(include_background=True, percentile=95)\n",
    "surface_distance_avg_metric = monai_metrics.SurfaceDistanceMetric(include_background=True)\n",
    "\n",
    "# import the custom metrics implementation\n",
    "import monai_metrics as custom_metrics\n",
    "dice_metric_custom = custom_metrics.DiceMetric()\n",
    "surface_distance_95_metric_custom = custom_metrics.HausdorffDistanceMetric()\n",
    "surface_distance_avg_metric_custom = custom_metrics.SurfaceDistanceMetric()"
   ]
  },
  {
   "cell_type": "code",
   "execution_count": null,
   "metadata": {},
   "outputs": [
    {
     "data": {
      "text/plain": [
       "<matplotlib.image.AxesImage at 0x71017472d890>"
      ]
     },
     "execution_count": 4,
     "metadata": {},
     "output_type": "execute_result"
    },
    {
     "data": {
      "image/png": "[encoded data removed]",
      "text/plain": [
       "<Figure size 640x480 with 1 Axes>"
      ]
     },
     "metadata": {},
     "output_type": "display_data"
    }
   ],
   "source": [
    "# create a random prediction and target for testing\n",
    "\n",
    "image_size = (250,250)\n",
    "\n",
    "m1 = cv2.circle(np.zeros(image_size), (50,50), 10, 255, -1) > 0\n",
    "m1 = torch.tensor(m1).unsqueeze(0).unsqueeze(0)\n",
    "m1_numpy = m1.cpu().numpy()\n",
    "\n",
    "m2 = cv2.circle(np.zeros(image_size), (60,50), 15, 255, -1) > 0\n",
    "m2 = torch.tensor(m2).unsqueeze(0).unsqueeze(0)\n",
    "m2_numpy = m2.cpu().numpy()\n",
    "\n",
    "plt.imshow(m1[0,0] | m2[0,0])"
   ]
  },
  {
   "cell_type": "code",
   "execution_count": 5,
   "metadata": {},
   "outputs": [
    {
     "data": {
      "text/plain": [
       "torch.Size([1, 1, 250, 250])"
      ]
     },
     "execution_count": 5,
     "metadata": {},
     "output_type": "execute_result"
    }
   ],
   "source": [
    "m2.shape"
   ]
  },
  {
   "cell_type": "code",
   "execution_count": 6,
   "metadata": {},
   "outputs": [
    {
     "name": "stdout",
     "output_type": "stream",
     "text": [
      "Dice custom: [[0.45614034]]\n",
      "Dice monai:  [[0.45614034]]\n",
      "\n",
      "Surface distance 95 custom: [[14.52386]]\n",
      "Surface distance 95 monai:  [[14.52386]]\n",
      "\n",
      "Surface distance avg custom: [[5.075359]]\n",
      "Surface distance avg monai:  [[5.0753584]]\n"
     ]
    }
   ],
   "source": [
    "# compare the custom and monai metrics implementations\n",
    "# they should return the same result up to floating point precision\n",
    "\n",
    "dice_custom = dice_metric_custom(m1_numpy, m2_numpy)\n",
    "dice_monai = dice_metric(m1, m2)\n",
    "print(\"Dice custom:\", dice_custom)\n",
    "print(\"Dice monai: \", dice_monai.cpu().numpy())\n",
    "print()\n",
    "\n",
    "surface_distance_95_custom = surface_distance_95_metric_custom(m1_numpy, m2_numpy)\n",
    "surface_distance_95_monai = surface_distance_95_metric(m1, m2)\n",
    "print(\"Surface distance 95 custom:\", surface_distance_95_custom)\n",
    "print(\"Surface distance 95 monai: \", surface_distance_95_monai.cpu().numpy())\n",
    "print()\n",
    "\n",
    "surface_distance_avg_custom = surface_distance_avg_metric_custom(m1_numpy, m2_numpy)\n",
    "surface_distance_avg_monai = surface_distance_avg_metric(m1, m2)\n",
    "print(\"Surface distance avg custom:\", surface_distance_avg_custom)\n",
    "print(\"Surface distance avg monai: \", surface_distance_avg_monai.cpu().numpy())"
   ]
  },
  {
   "cell_type": "code",
   "execution_count": 7,
   "metadata": {},
   "outputs": [],
   "source": [
    "# assert that the custom and monai implementations are the same\n",
    "assert np.isclose(dice_custom, dice_monai)\n",
    "assert np.isclose(surface_distance_95_custom, surface_distance_95_monai)\n",
    "assert np.isclose(surface_distance_avg_custom, surface_distance_avg_monai)"
   ]
  },
  {
   "cell_type": "code",
   "execution_count": 8,
   "metadata": {},
   "outputs": [],
   "source": [
    "# compare the runtime of the custom and monai metrics implementations"
   ]
  },
  {
   "cell_type": "code",
   "execution_count": 9,
   "metadata": {},
   "outputs": [
    {
     "name": "stdout",
     "output_type": "stream",
     "text": [
      "The slowest run took 5.96 times longer than the fastest. This could mean that an intermediate result is being cached.\n",
      "984 μs ± 675 μs per loop (mean ± std. dev. of 7 runs, 1,000 loops each)\n"
     ]
    }
   ],
   "source": [
    "%%timeit\n",
    "# monai implementation\n",
    "dice_monai = dice_metric(m1, m2)"
   ]
  },
  {
   "cell_type": "code",
   "execution_count": 10,
   "metadata": {},
   "outputs": [
    {
     "name": "stdout",
     "output_type": "stream",
     "text": [
      "3.85 ms ± 408 μs per loop (mean ± std. dev. of 7 runs, 100 loops each)\n"
     ]
    }
   ],
   "source": [
    "%%timeit\n",
    "# monai implementation\n",
    "surface_distance_95_monai = surface_distance_95_metric(m1, m2)"
   ]
  },
  {
   "cell_type": "code",
   "execution_count": 11,
   "metadata": {},
   "outputs": [
    {
     "name": "stdout",
     "output_type": "stream",
     "text": [
      "3.29 ms ± 283 μs per loop (mean ± std. dev. of 7 runs, 100 loops each)\n"
     ]
    }
   ],
   "source": [
    "%%timeit\n",
    "# monai implementation\n",
    "surface_distance_avg_monai = surface_distance_avg_metric(m1, m2)"
   ]
  },
  {
   "cell_type": "code",
   "execution_count": 12,
   "metadata": {},
   "outputs": [
    {
     "name": "stdout",
     "output_type": "stream",
     "text": [
      "114 μs ± 5.07 μs per loop (mean ± std. dev. of 7 runs, 10,000 loops each)\n"
     ]
    }
   ],
   "source": [
    "%%timeit\n",
    "# custom implementation\n",
    "dice_custom = dice_metric_custom(m1_numpy, m2_numpy)"
   ]
  },
  {
   "cell_type": "code",
   "execution_count": 13,
   "metadata": {},
   "outputs": [
    {
     "name": "stdout",
     "output_type": "stream",
     "text": [
      "526 μs ± 12.8 μs per loop (mean ± std. dev. of 7 runs, 1,000 loops each)\n"
     ]
    }
   ],
   "source": [
    "%%timeit\n",
    "# custom implementation\n",
    "surface_distance_95_custom = surface_distance_95_metric_custom(m1_numpy, m2_numpy)"
   ]
  },
  {
   "cell_type": "code",
   "execution_count": 14,
   "metadata": {},
   "outputs": [
    {
     "name": "stdout",
     "output_type": "stream",
     "text": [
      "325 μs ± 9.84 μs per loop (mean ± std. dev. of 7 runs, 1,000 loops each)\n"
     ]
    }
   ],
   "source": [
    "%%timeit\n",
    "# custom implementation\n",
    "surface_distance_avg_custom = surface_distance_avg_metric_custom(m1_numpy, m2_numpy)"
   ]
  }
 ],
 "metadata": {
  "kernelspec": {
   "display_name": "Python 3",
   "language": "python",
   "name": "python3"
  },
  "language_info": {
   "codemirror_mode": {
    "name": "ipython",
    "version": 3
   },
   "file_extension": ".py",
   "mimetype": "text/x-python",
   "name": "python",
   "nbconvert_exporter": "python",
   "pygments_lexer": "ipython3",
   "version": "3.11.9"
  }
 },
 "nbformat": 4,
 "nbformat_minor": 2
}
